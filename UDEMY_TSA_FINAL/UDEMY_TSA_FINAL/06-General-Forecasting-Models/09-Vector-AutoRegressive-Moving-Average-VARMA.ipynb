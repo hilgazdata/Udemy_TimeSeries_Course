{
 "cells": [
  {
   "cell_type": "markdown",
   "metadata": {},
   "source": [
    "___\n",
    "\n",
    "<a href='http://www.pieriandata.com'><img src='../Pierian_Data_Logo.png'/></a>\n",
    "___\n",
    "<center><em>Copyright Pierian Data</em></center>\n",
    "<center><em>For more information, visit us at <a href='http://www.pieriandata.com'>www.pieriandata.com</a></em></center>"
   ]
  },
  {
   "cell_type": "markdown",
   "metadata": {},
   "source": [
    "# VARMA(p,q)\n",
    "## Vector Autoregressive Moving Average\n",
    "This lesson picks up where VAR(p) left off.\n",
    "\n",
    "Recall that the system of equations for a 2-dimensional VAR(1) model is:\n",
    "\n",
    "&nbsp;&nbsp;&nbsp;&nbsp;$y_{1,t} = c_1 + \\phi_{11,1}y_{1,t-1} + \\phi_{12,1}y_{2,t-1} + \\varepsilon_{1,t}$<br>\n",
    "&nbsp;&nbsp;&nbsp;&nbsp;$y_{2,t} = c_2 + \\phi_{21,1}y_{1,t-1} + \\phi_{22,1}y_{2,t-1} + \\varepsilon_{2,t}$\n",
    "\n",
    "where the coefficient $\\phi_{ii,l}$ captures the influence of the $l$th lag of variable $y_i$ on itself,<br>\n",
    "the coefficient $\\phi_{ij,l}$ captures the influence of the $l$th lag of variable $y_j$ on $y_i$.<br>\n",
    "Most importantly, $\\varepsilon_{1,t}$ and $\\varepsilon_{2,t}$ are white noise processes that may be correlated.<br>\n",
    "\n",
    "In a <strong>VARMA(p,q)</strong> model we give the error terms $\\varepsilon_t$ a moving average representation of order $q$.\n",
    "\n",
    "\n",
    "### Formulation\n",
    "We've seen that an autoregressive moving average ARMA(p,q) model is described by the following:\n",
    "\n",
    "&nbsp;&nbsp;&nbsp;&nbsp; $y_{t} = c + \\phi_{1}y_{t-1} + \\phi_{2}y_{t-2} + \\dots + \\phi_{p}y_{t-p} + \\theta_{1}\\varepsilon_{t-1} + \\theta_{2}\\varepsilon_{t-2} + \\dots + \\theta_{q}\\varepsilon_{t-q} + \\varepsilon_{t}$"
   ]
  },
  {
   "cell_type": "markdown",
   "metadata": {},
   "source": [
    "A $K$-dimensional VARMA model of order $(p,q)$ considers each variable $y_K$ in the system.<br>\n",
    "\n",
    "For example, the system of equations for a 2-dimensional VARMA(1,1) model is:\n",
    "\n",
    "&nbsp;&nbsp;&nbsp;&nbsp;$y_{1,t} = c_1 + \\phi_{11,1}y_{1,t-1} + \\phi_{12,1}y_{2,t-1} + \\theta_{11,1}\\varepsilon_{1,t-1} + \\theta_{12,1}\\varepsilon_{2,t-1} + \\varepsilon_{1,t}$<br>\n",
    "&nbsp;&nbsp;&nbsp;&nbsp;$y_{2,t} = c_2 + \\phi_{21,1}y_{1,t-1} + \\phi_{22,1}y_{2,t-1} + \\theta_{21,1}\\varepsilon_{1,t-1} + \\theta_{22,1}\\varepsilon_{2,t-1} + \\varepsilon_{2,t}$\n",
    "\n",
    "where the coefficient $\\theta_{ii,l}$ captures the influence of the $l$th lag of error $\\varepsilon_i$ on itself,<br>\n",
    "the coefficient $\\theta_{ij,l}$ captures the influence of the $l$th lag of error $\\varepsilon_j$ on $\\varepsilon_i$,<br>\n",
    "and $\\varepsilon_{1,t}$ and $\\varepsilon_{2,t}$ are residual white noise.<br>\n",
    "\n",
    "\n",
    "The general steps involved in building a VARMA model are:\n",
    "* Examine the data\n",
    "* Visualize the data\n",
    "* Test for stationarity\n",
    "* If necessary, transform the data to make it stationary\n",
    "* Select the appropriate <em>p</em> and <em>q</em> orders\n",
    "* Instantiate the model and fit it to a training set\n",
    "* If necessary, invert the earlier transformation\n",
    "* Evaluate model predictions against a known test set\n",
    "* Forecast the future"
   ]
  },
  {
   "cell_type": "markdown",
   "metadata": {
    "collapsed": true
   },
   "source": [
    "<div class=\"alert alert-info\"><h3>Related Functions:</h3>\n",
    "<tt><strong>\n",
    "<a href='https://www.statsmodels.org/stable/generated/statsmodels.tsa.statespace.varmax.VARMAX.html'>\n",
    "varmax.VARMAX</a></strong><font color=black>(endog[, exog, order, trend, …])</font>&nbsp;&nbsp;Vector Autoregressive Moving Average with eXogenous regressors model<br>\n",
    "<strong>\n",
    "<a href='https://www.statsmodels.org/stable/generated/statsmodels.tsa.statespace.varmax.VARMAXResults.html'>\n",
    "varmax.VARMAXResults</a></strong><font color=black>(model, params[, …])</font>&nbsp;&nbsp;&nbsp;&nbsp;&nbsp;&nbsp;&nbsp;Class to hold results from fitting an VARMAX model<br>\n",
    "</tt>\n",
    "   \n",
    "<h3>For Further Reading:</h3>\n",
    "<strong>\n",
    "<a href='https://www.statsmodels.org/stable/statespace.html#vector-autoregressive-moving-average-with-exogenous-regressors-varmax'>Statsmodels Tutorial:</a></strong>&nbsp;&nbsp;<font color=black>Time Series Analysis by State Space Methods</font><br>\n",
    "<strong>\n",
    "<a href='https://www.statsmodels.org/stable/examples/notebooks/generated/statespace_varmax.html'>Statsmodels Example:</a></strong>&nbsp;&nbsp;<font color=black>VARMAX models</font><br>\n",
    "</div>"
   ]
  },
  {
   "cell_type": "markdown",
   "metadata": {},
   "source": [
    "### Perform standard imports and load dataset\n",
    "For this analysis we'll reuse our money and spending datasets. We'll look at the M2 Money Stock which is a measure of U.S. personal assets, and U.S. personal spending. Both datasets are in billions of dollars, monthly, seasonally adjusted. They span the 21 years from January 1995 to December 2015 (252 records).<br>\n",
    "Sources: https://fred.stlouisfed.org/series/M2SL https://fred.stlouisfed.org/series/PCE"
   ]
  },
  {
   "cell_type": "code",
   "metadata": {
    "ExecuteTime": {
     "end_time": "2025-06-26T03:51:04.886991Z",
     "start_time": "2025-06-26T03:51:02.138635Z"
    }
   },
   "source": [
    "import numpy as np\n",
    "import pandas as pd\n",
    "%matplotlib inline\n",
    "\n",
    "# Load specific forecasting tools\n",
    "from statsmodels.tsa.statespace.varmax import VARMAX, VARMAXResults\n",
    "from statsmodels.tsa.stattools import adfuller\n",
    "from pmdarima import auto_arima\n",
    "from statsmodels.tools.eval_measures import rmse\n",
    "\n",
    "# Ignore harmless warnings\n",
    "import warnings\n",
    "warnings.filterwarnings(\"ignore\")\n",
    "\n",
    "# Load datasets\n",
    "df = pd.read_csv('../Data/M2SLMoneyStock.csv',index_col=0, parse_dates=True)\n",
    "df.index.freq = 'MS'\n",
    "\n",
    "sp = pd.read_csv('../Data/PCEPersonalSpending.csv',index_col=0, parse_dates=True)\n",
    "sp.index.freq = 'MS'"
   ],
   "outputs": [],
   "execution_count": 1
  },
  {
   "cell_type": "markdown",
   "metadata": {},
   "source": [
    "### Inspect the data"
   ]
  },
  {
   "cell_type": "code",
   "metadata": {
    "ExecuteTime": {
     "end_time": "2025-06-26T03:51:17.557903Z",
     "start_time": "2025-06-26T03:51:17.533119Z"
    }
   },
   "source": [
    "df = df.join(sp)\n",
    "df.head()"
   ],
   "outputs": [
    {
     "data": {
      "text/plain": [
       "             Money  Spending\n",
       "Date                        \n",
       "1995-01-01  3492.4    4851.2\n",
       "1995-02-01  3489.9    4850.8\n",
       "1995-03-01  3491.1    4885.4\n",
       "1995-04-01  3499.2    4890.2\n",
       "1995-05-01  3524.2    4933.1"
      ],
      "text/html": [
       "<div>\n",
       "<style scoped>\n",
       "    .dataframe tbody tr th:only-of-type {\n",
       "        vertical-align: middle;\n",
       "    }\n",
       "\n",
       "    .dataframe tbody tr th {\n",
       "        vertical-align: top;\n",
       "    }\n",
       "\n",
       "    .dataframe thead th {\n",
       "        text-align: right;\n",
       "    }\n",
       "</style>\n",
       "<table border=\"1\" class=\"dataframe\">\n",
       "  <thead>\n",
       "    <tr style=\"text-align: right;\">\n",
       "      <th></th>\n",
       "      <th>Money</th>\n",
       "      <th>Spending</th>\n",
       "    </tr>\n",
       "    <tr>\n",
       "      <th>Date</th>\n",
       "      <th></th>\n",
       "      <th></th>\n",
       "    </tr>\n",
       "  </thead>\n",
       "  <tbody>\n",
       "    <tr>\n",
       "      <th>1995-01-01</th>\n",
       "      <td>3492.4</td>\n",
       "      <td>4851.2</td>\n",
       "    </tr>\n",
       "    <tr>\n",
       "      <th>1995-02-01</th>\n",
       "      <td>3489.9</td>\n",
       "      <td>4850.8</td>\n",
       "    </tr>\n",
       "    <tr>\n",
       "      <th>1995-03-01</th>\n",
       "      <td>3491.1</td>\n",
       "      <td>4885.4</td>\n",
       "    </tr>\n",
       "    <tr>\n",
       "      <th>1995-04-01</th>\n",
       "      <td>3499.2</td>\n",
       "      <td>4890.2</td>\n",
       "    </tr>\n",
       "    <tr>\n",
       "      <th>1995-05-01</th>\n",
       "      <td>3524.2</td>\n",
       "      <td>4933.1</td>\n",
       "    </tr>\n",
       "  </tbody>\n",
       "</table>\n",
       "</div>"
      ]
     },
     "execution_count": 2,
     "metadata": {},
     "output_type": "execute_result"
    }
   ],
   "execution_count": 2
  },
  {
   "cell_type": "code",
   "metadata": {
    "ExecuteTime": {
     "end_time": "2025-06-26T03:51:27.323535Z",
     "start_time": "2025-06-26T03:51:27.312613Z"
    }
   },
   "source": [
    "df = df.dropna()\n",
    "df.shape"
   ],
   "outputs": [
    {
     "data": {
      "text/plain": [
       "(252, 2)"
      ]
     },
     "execution_count": 3,
     "metadata": {},
     "output_type": "execute_result"
    }
   ],
   "execution_count": 3
  },
  {
   "cell_type": "markdown",
   "metadata": {},
   "source": [
    "### Plot the source data"
   ]
  },
  {
   "cell_type": "code",
   "metadata": {
    "ExecuteTime": {
     "end_time": "2025-06-26T03:51:32.801396Z",
     "start_time": "2025-06-26T03:51:32.641324Z"
    }
   },
   "source": [
    "title = 'M2 Money Stock vs. Personal Consumption Expenditures'\n",
    "ylabel='Billions of dollars'\n",
    "xlabel=''\n",
    "\n",
    "ax = df['Spending'].plot(figsize=(12,5),title=title,legend=True)\n",
    "ax.autoscale(axis='x',tight=True)\n",
    "ax.set(xlabel=xlabel, ylabel=ylabel)\n",
    "df['Money'].plot(legend=True);"
   ],
   "outputs": [
    {
     "data": {
      "text/plain": [
       "<Figure size 1200x500 with 1 Axes>"
      ],
      "image/png": "[encoded data removed]"
     },
     "metadata": {},
     "output_type": "display_data"
    }
   ],
   "execution_count": 4
  },
  {
   "cell_type": "markdown",
   "metadata": {},
   "source": [
    "## Test for stationarity, perform any necessary transformations\n",
    "In the previous section we applied the augmented Dickey-Fuller test and found that a second-order difference achieved stationarity. In this section we'll perform the <strong>auto_arima</strong> prediction to identify optimal $p$ and $q$ orders."
   ]
  },
  {
   "cell_type": "code",
   "metadata": {
    "ExecuteTime": {
     "end_time": "2025-06-26T03:51:39.769902Z",
     "start_time": "2025-06-26T03:51:39.762749Z"
    }
   },
   "source": [
    "# INCLUDED HERE IF YOU CHOOSE TO USE IT\n",
    "def adf_test(series,title=''):\n",
    "    \"\"\"\n",
    "    Pass in a time series and an optional title, returns an ADF report\n",
    "    \"\"\"\n",
    "    print(f'Augmented Dickey-Fuller Test: {title}')\n",
    "    result = adfuller(series.dropna(),autolag='AIC') # .dropna() handles differenced data\n",
    "    \n",
    "    labels = ['ADF test statistic','p-value','# lags used','# observations']\n",
    "    out = pd.Series(result[0:4],index=labels)\n",
    "\n",
    "    for key,val in result[4].items():\n",
    "        out[f'critical value ({key})']=val\n",
    "        \n",
    "    print(out.to_string())          # .to_string() removes the line \"dtype: float64\"\n",
    "    \n",
    "    if result[1] <= 0.05:\n",
    "        print(\"Strong evidence against the null hypothesis\")\n",
    "        print(\"Reject the null hypothesis\")\n",
    "        print(\"Data has no unit root and is stationary\")\n",
    "    else:\n",
    "        print(\"Weak evidence against the null hypothesis\")\n",
    "        print(\"Fail to reject the null hypothesis\")\n",
    "        print(\"Data has a unit root and is non-stationary\")"
   ],
   "outputs": [],
   "execution_count": 5
  },
  {
   "cell_type": "markdown",
   "metadata": {},
   "source": [
    "<div class=\"alert alert-info\"><strong>NOTE: </strong> When performing the auto_arima function we're likely to see a <tt><font color=black>ConvergenceWarning: Maximum Likelihood optimization failed to converge.</font></tt> This is not unusual in models which have to estimate a large number of parameters. However, we can override the maximum iterations default of 50, and pass an arbitrarily large number with <tt>maxiter=1000</tt>. We'll see this come up again when we fit our model.</div>  "
   ]
  },
  {
   "cell_type": "code",
   "metadata": {
    "ExecuteTime": {
     "end_time": "2025-06-26T03:59:45.346637Z",
     "start_time": "2025-06-26T03:59:44.598506Z"
    }
   },
   "source": [
    "auto_arima(df['Money'],maxiter=1000)"
   ],
   "outputs": [
    {
     "data": {
      "text/plain": [
       "ARIMA(maxiter=1000, order=(1, 2, 1), scoring_args={}, suppress_warnings=True,\n",
       "      with_intercept=False)"
      ]
     },
     "execution_count": 6,
     "metadata": {},
     "output_type": "execute_result"
    }
   ],
   "execution_count": 6
  },
  {
   "cell_type": "code",
   "metadata": {
    "ExecuteTime": {
     "end_time": "2025-06-26T03:59:55.472673Z",
     "start_time": "2025-06-26T03:59:53.578831Z"
    }
   },
   "source": [
    "auto_arima(df['Spending'],maxiter=1000)"
   ],
   "outputs": [
    {
     "data": {
      "text/plain": [
       "ARIMA(maxiter=1000, order=(1, 1, 2), scoring_args={}, suppress_warnings=True)"
      ]
     },
     "execution_count": 7,
     "metadata": {},
     "output_type": "execute_result"
    }
   ],
   "execution_count": 7
  },
  {
   "cell_type": "markdown",
   "metadata": {},
   "source": [
    "It looks like a VARMA(1,2) model is recommended. Note that the $d$ term (2 for Money, 1 for Spending) is about to be addressed by transforming the data to make it stationary. As before we'll apply a second order difference."
   ]
  },
  {
   "cell_type": "code",
   "metadata": {
    "ExecuteTime": {
     "end_time": "2025-06-26T04:00:30.277973Z",
     "start_time": "2025-06-26T04:00:30.255819Z"
    }
   },
   "source": [
    "df_transformed = df.diff().diff()\n",
    "df_transformed = df_transformed.dropna()\n",
    "df_transformed.head()"
   ],
   "outputs": [
    {
     "data": {
      "text/plain": [
       "            Money  Spending\n",
       "Date                       \n",
       "1995-03-01    3.7      35.0\n",
       "1995-04-01    6.9     -29.8\n",
       "1995-05-01   16.9      38.1\n",
       "1995-06-01   -0.3       1.5\n",
       "1995-07-01   -6.2     -51.7"
      ],
      "text/html": [
       "<div>\n",
       "<style scoped>\n",
       "    .dataframe tbody tr th:only-of-type {\n",
       "        vertical-align: middle;\n",
       "    }\n",
       "\n",
       "    .dataframe tbody tr th {\n",
       "        vertical-align: top;\n",
       "    }\n",
       "\n",
       "    .dataframe thead th {\n",
       "        text-align: right;\n",
       "    }\n",
       "</style>\n",
       "<table border=\"1\" class=\"dataframe\">\n",
       "  <thead>\n",
       "    <tr style=\"text-align: right;\">\n",
       "      <th></th>\n",
       "      <th>Money</th>\n",
       "      <th>Spending</th>\n",
       "    </tr>\n",
       "    <tr>\n",
       "      <th>Date</th>\n",
       "      <th></th>\n",
       "      <th></th>\n",
       "    </tr>\n",
       "  </thead>\n",
       "  <tbody>\n",
       "    <tr>\n",
       "      <th>1995-03-01</th>\n",
       "      <td>3.7</td>\n",
       "      <td>35.0</td>\n",
       "    </tr>\n",
       "    <tr>\n",
       "      <th>1995-04-01</th>\n",
       "      <td>6.9</td>\n",
       "      <td>-29.8</td>\n",
       "    </tr>\n",
       "    <tr>\n",
       "      <th>1995-05-01</th>\n",
       "      <td>16.9</td>\n",
       "      <td>38.1</td>\n",
       "    </tr>\n",
       "    <tr>\n",
       "      <th>1995-06-01</th>\n",
       "      <td>-0.3</td>\n",
       "      <td>1.5</td>\n",
       "    </tr>\n",
       "    <tr>\n",
       "      <th>1995-07-01</th>\n",
       "      <td>-6.2</td>\n",
       "      <td>-51.7</td>\n",
       "    </tr>\n",
       "  </tbody>\n",
       "</table>\n",
       "</div>"
      ]
     },
     "execution_count": 8,
     "metadata": {},
     "output_type": "execute_result"
    }
   ],
   "execution_count": 8
  },
  {
   "cell_type": "code",
   "metadata": {
    "ExecuteTime": {
     "end_time": "2025-06-26T04:00:32.708129Z",
     "start_time": "2025-06-26T04:00:32.699131Z"
    }
   },
   "source": [
    "len(df_transformed)"
   ],
   "outputs": [
    {
     "data": {
      "text/plain": [
       "250"
      ]
     },
     "execution_count": 9,
     "metadata": {},
     "output_type": "execute_result"
    }
   ],
   "execution_count": 9
  },
  {
   "cell_type": "markdown",
   "metadata": {},
   "source": [
    "## Train/test/split\n",
    "It is useful to define a number of observations variable for our test set. For this analysis, let's use 12 months."
   ]
  },
  {
   "cell_type": "code",
   "metadata": {
    "ExecuteTime": {
     "end_time": "2025-06-26T04:00:41.725588Z",
     "start_time": "2025-06-26T04:00:41.717464Z"
    }
   },
   "source": [
    "nobs=12\n",
    "train, test = df_transformed[0:-nobs], df_transformed[-nobs:]"
   ],
   "outputs": [],
   "execution_count": 10
  },
  {
   "cell_type": "code",
   "metadata": {
    "ExecuteTime": {
     "end_time": "2025-06-26T04:00:42.986016Z",
     "start_time": "2025-06-26T04:00:42.980811Z"
    }
   },
   "source": [
    "print(train.shape)\n",
    "print(test.shape)"
   ],
   "outputs": [
    {
     "name": "stdout",
     "output_type": "stream",
     "text": [
      "(238, 2)\n",
      "(12, 2)\n"
     ]
    }
   ],
   "execution_count": 11
  },
  {
   "cell_type": "markdown",
   "metadata": {},
   "source": [
    "## Fit the VARMA(1,2) Model\n",
    "This may take awhile."
   ]
  },
  {
   "cell_type": "code",
   "metadata": {
    "ExecuteTime": {
     "end_time": "2025-06-26T04:03:03.661079Z",
     "start_time": "2025-06-26T04:01:16.390788Z"
    }
   },
   "source": [
    "model = VARMAX(train, order=(1,2), trend='c')\n",
    "results = model.fit(maxiter=1000, disp=False)\n",
    "results.summary()"
   ],
   "outputs": [
    {
     "data": {
      "text/plain": [
       "<class 'statsmodels.iolib.summary.Summary'>\n",
       "\"\"\"\n",
       "                             Statespace Model Results                            \n",
       "=================================================================================\n",
       "Dep. Variable:     ['Money', 'Spending']   No. Observations:                  238\n",
       "Model:                        VARMA(1,2)   Log Likelihood               -2286.177\n",
       "                             + intercept   AIC                           4606.354\n",
       "Date:                   Thu, 26 Jun 2025   BIC                           4665.383\n",
       "Time:                           00:03:03   HQIC                          4630.144\n",
       "Sample:                       03-01-1995                                         \n",
       "                            - 12-01-2014                                         \n",
       "Covariance Type:                     opg                                         \n",
       "===================================================================================\n",
       "Ljung-Box (L1) (Q):             0.91, 0.00   Jarque-Bera (JB):       532.42, 108.98\n",
       "Prob(Q):                        0.34, 0.96   Prob(JB):                   0.00, 0.00\n",
       "Heteroskedasticity (H):         5.50, 2.94   Skew:                      1.31, -0.32\n",
       "Prob(H) (two-sided):            0.00, 0.00   Kurtosis:                   9.84, 6.25\n",
       "                            Results for equation Money                            \n",
       "==================================================================================\n",
       "                     coef    std err          z      P>|z|      [0.025      0.975]\n",
       "----------------------------------------------------------------------------------\n",
       "intercept         -0.0409      1.047     -0.039      0.969      -2.093       2.012\n",
       "L1.Money          -1.1139      4.436     -0.251      0.802      -9.808       7.580\n",
       "L1.Spending        2.7636      9.451      0.292      0.770     -15.760      21.287\n",
       "L1.e(Money)        0.3536      4.420      0.080      0.936      -8.310       9.017\n",
       "L1.e(Spending)    -2.8940      9.454     -0.306      0.760     -21.424      15.637\n",
       "L2.e(Money)       -1.4438      4.722     -0.306      0.760     -10.698       7.811\n",
       "L2.e(Spending)     2.5366      8.279      0.306      0.759     -13.689      18.762\n",
       "                          Results for equation Spending                           \n",
       "==================================================================================\n",
       "                     coef    std err          z      P>|z|      [0.025      0.975]\n",
       "----------------------------------------------------------------------------------\n",
       "intercept          0.0759      0.304      0.250      0.803      -0.520       0.672\n",
       "L1.Money          -0.2838      2.179     -0.130      0.896      -4.554       3.986\n",
       "L1.Spending        0.8303      4.466      0.186      0.853      -7.923       9.584\n",
       "L1.e(Money)        0.4074      2.247      0.181      0.856      -3.998       4.812\n",
       "L1.e(Spending)    -1.7744      4.441     -0.400      0.689     -10.478       6.929\n",
       "L2.e(Money)       -0.4029      2.393     -0.168      0.866      -5.094       4.288\n",
       "L2.e(Spending)     0.7943      3.870      0.205      0.837      -6.790       8.379\n",
       "                                  Error covariance matrix                                  \n",
       "===========================================================================================\n",
       "                              coef    std err          z      P>|z|      [0.025      0.975]\n",
       "-------------------------------------------------------------------------------------------\n",
       "sqrt.var.Money             26.1234      2.061     12.673      0.000      22.083      30.164\n",
       "sqrt.cov.Money.Spending   -10.7844      1.938     -5.566      0.000     -14.582      -6.987\n",
       "sqrt.var.Spending          33.8339      1.282     26.401      0.000      31.322      36.346\n",
       "===========================================================================================\n",
       "\n",
       "Warnings:\n",
       "[1] Covariance matrix calculated using the outer product of gradients (complex-step).\n",
       "\"\"\""
      ],
      "text/html": [
       "<table class=\"simpletable\">\n",
       "<caption>Statespace Model Results</caption>\n",
       "<tr>\n",
       "  <th>Dep. Variable:</th>   <td>['Money', 'Spending']</td> <th>  No. Observations:  </th>    <td>238</td>   \n",
       "</tr>\n",
       "<tr>\n",
       "  <th>Model:</th>                <td>VARMA(1,2)</td>       <th>  Log Likelihood     </th> <td>-2286.177</td>\n",
       "</tr>\n",
       "<tr>\n",
       "  <th></th>                      <td>+ intercept</td>      <th>  AIC                </th> <td>4606.354</td> \n",
       "</tr>\n",
       "<tr>\n",
       "  <th>Date:</th>              <td>Thu, 26 Jun 2025</td>    <th>  BIC                </th> <td>4665.383</td> \n",
       "</tr>\n",
       "<tr>\n",
       "  <th>Time:</th>                  <td>00:03:03</td>        <th>  HQIC               </th> <td>4630.144</td> \n",
       "</tr>\n",
       "<tr>\n",
       "  <th>Sample:</th>               <td>03-01-1995</td>       <th>                     </th>     <td> </td>    \n",
       "</tr>\n",
       "<tr>\n",
       "  <th></th>                     <td>- 12-01-2014</td>      <th>                     </th>     <td> </td>    \n",
       "</tr>\n",
       "<tr>\n",
       "  <th>Covariance Type:</th>          <td>opg</td>          <th>                     </th>     <td> </td>    \n",
       "</tr>\n",
       "</table>\n",
       "<table class=\"simpletable\">\n",
       "<tr>\n",
       "  <th>Ljung-Box (L1) (Q):</th>     <td>0.91, 0.00</td> <th>  Jarque-Bera (JB):  </th> <td>532.42, 108.98</td>\n",
       "</tr>\n",
       "<tr>\n",
       "  <th>Prob(Q):</th>                <td>0.34, 0.96</td> <th>  Prob(JB):          </th>   <td>0.00, 0.00</td>  \n",
       "</tr>\n",
       "<tr>\n",
       "  <th>Heteroskedasticity (H):</th> <td>5.50, 2.94</td> <th>  Skew:              </th>   <td>1.31, -0.32</td> \n",
       "</tr>\n",
       "<tr>\n",
       "  <th>Prob(H) (two-sided):</th>    <td>0.00, 0.00</td> <th>  Kurtosis:          </th>   <td>9.84, 6.25</td>  \n",
       "</tr>\n",
       "</table>\n",
       "<table class=\"simpletable\">\n",
       "<caption>Results for equation Money</caption>\n",
       "<tr>\n",
       "         <td></td>           <th>coef</th>     <th>std err</th>      <th>z</th>      <th>P>|z|</th>  <th>[0.025</th>    <th>0.975]</th>  \n",
       "</tr>\n",
       "<tr>\n",
       "  <th>intercept</th>      <td>   -0.0409</td> <td>    1.047</td> <td>   -0.039</td> <td> 0.969</td> <td>   -2.093</td> <td>    2.012</td>\n",
       "</tr>\n",
       "<tr>\n",
       "  <th>L1.Money</th>       <td>   -1.1139</td> <td>    4.436</td> <td>   -0.251</td> <td> 0.802</td> <td>   -9.808</td> <td>    7.580</td>\n",
       "</tr>\n",
       "<tr>\n",
       "  <th>L1.Spending</th>    <td>    2.7636</td> <td>    9.451</td> <td>    0.292</td> <td> 0.770</td> <td>  -15.760</td> <td>   21.287</td>\n",
       "</tr>\n",
       "<tr>\n",
       "  <th>L1.e(Money)</th>    <td>    0.3536</td> <td>    4.420</td> <td>    0.080</td> <td> 0.936</td> <td>   -8.310</td> <td>    9.017</td>\n",
       "</tr>\n",
       "<tr>\n",
       "  <th>L1.e(Spending)</th> <td>   -2.8940</td> <td>    9.454</td> <td>   -0.306</td> <td> 0.760</td> <td>  -21.424</td> <td>   15.637</td>\n",
       "</tr>\n",
       "<tr>\n",
       "  <th>L2.e(Money)</th>    <td>   -1.4438</td> <td>    4.722</td> <td>   -0.306</td> <td> 0.760</td> <td>  -10.698</td> <td>    7.811</td>\n",
       "</tr>\n",
       "<tr>\n",
       "  <th>L2.e(Spending)</th> <td>    2.5366</td> <td>    8.279</td> <td>    0.306</td> <td> 0.759</td> <td>  -13.689</td> <td>   18.762</td>\n",
       "</tr>\n",
       "</table>\n",
       "<table class=\"simpletable\">\n",
       "<caption>Results for equation Spending</caption>\n",
       "<tr>\n",
       "         <td></td>           <th>coef</th>     <th>std err</th>      <th>z</th>      <th>P>|z|</th>  <th>[0.025</th>    <th>0.975]</th>  \n",
       "</tr>\n",
       "<tr>\n",
       "  <th>intercept</th>      <td>    0.0759</td> <td>    0.304</td> <td>    0.250</td> <td> 0.803</td> <td>   -0.520</td> <td>    0.672</td>\n",
       "</tr>\n",
       "<tr>\n",
       "  <th>L1.Money</th>       <td>   -0.2838</td> <td>    2.179</td> <td>   -0.130</td> <td> 0.896</td> <td>   -4.554</td> <td>    3.986</td>\n",
       "</tr>\n",
       "<tr>\n",
       "  <th>L1.Spending</th>    <td>    0.8303</td> <td>    4.466</td> <td>    0.186</td> <td> 0.853</td> <td>   -7.923</td> <td>    9.584</td>\n",
       "</tr>\n",
       "<tr>\n",
       "  <th>L1.e(Money)</th>    <td>    0.4074</td> <td>    2.247</td> <td>    0.181</td> <td> 0.856</td> <td>   -3.998</td> <td>    4.812</td>\n",
       "</tr>\n",
       "<tr>\n",
       "  <th>L1.e(Spending)</th> <td>   -1.7744</td> <td>    4.441</td> <td>   -0.400</td> <td> 0.689</td> <td>  -10.478</td> <td>    6.929</td>\n",
       "</tr>\n",
       "<tr>\n",
       "  <th>L2.e(Money)</th>    <td>   -0.4029</td> <td>    2.393</td> <td>   -0.168</td> <td> 0.866</td> <td>   -5.094</td> <td>    4.288</td>\n",
       "</tr>\n",
       "<tr>\n",
       "  <th>L2.e(Spending)</th> <td>    0.7943</td> <td>    3.870</td> <td>    0.205</td> <td> 0.837</td> <td>   -6.790</td> <td>    8.379</td>\n",
       "</tr>\n",
       "</table>\n",
       "<table class=\"simpletable\">\n",
       "<caption>Error covariance matrix</caption>\n",
       "<tr>\n",
       "             <td></td>                <th>coef</th>     <th>std err</th>      <th>z</th>      <th>P>|z|</th>  <th>[0.025</th>    <th>0.975]</th>  \n",
       "</tr>\n",
       "<tr>\n",
       "  <th>sqrt.var.Money</th>          <td>   26.1234</td> <td>    2.061</td> <td>   12.673</td> <td> 0.000</td> <td>   22.083</td> <td>   30.164</td>\n",
       "</tr>\n",
       "<tr>\n",
       "  <th>sqrt.cov.Money.Spending</th> <td>  -10.7844</td> <td>    1.938</td> <td>   -5.566</td> <td> 0.000</td> <td>  -14.582</td> <td>   -6.987</td>\n",
       "</tr>\n",
       "<tr>\n",
       "  <th>sqrt.var.Spending</th>       <td>   33.8339</td> <td>    1.282</td> <td>   26.401</td> <td> 0.000</td> <td>   31.322</td> <td>   36.346</td>\n",
       "</tr>\n",
       "</table><br/><br/>Warnings:<br/>[1] Covariance matrix calculated using the outer product of gradients (complex-step)."
      ]
     },
     "execution_count": 12,
     "metadata": {},
     "output_type": "execute_result"
    }
   ],
   "execution_count": 12
  },
  {
   "cell_type": "markdown",
   "metadata": {},
   "source": [
    "## Predict the next 12 values\n",
    "Unlike the VAR model we used in the previous section, the VARMAX <tt>.forecast()</tt> function won't require that we pass in a number of previous observations, and it will provide an extended DateTime index."
   ]
  },
  {
   "cell_type": "code",
   "metadata": {
    "ExecuteTime": {
     "end_time": "2025-06-26T04:03:27.012709Z",
     "start_time": "2025-06-26T04:03:26.979705Z"
    }
   },
   "source": [
    "df_forecast = results.forecast(12)\n",
    "df_forecast"
   ],
   "outputs": [
    {
     "data": {
      "text/plain": [
       "                Money   Spending\n",
       "2015-01-01 -10.737028  37.666972\n",
       "2015-02-01 -11.291961  -4.207931\n",
       "2015-03-01   0.908876  -0.213768\n",
       "2015-04-01  -1.644085  -0.359450\n",
       "2015-05-01   0.797178   0.243995\n",
       "2015-06-01  -0.254601   0.052320\n",
       "2015-07-01   0.387318   0.191616\n",
       "2015-08-01   0.057209   0.125128\n",
       "2015-09-01   0.241188   0.163592\n",
       "2015-10-01   0.142543   0.143324\n",
       "2015-11-01   0.196417   0.154486\n",
       "2015-12-01   0.167252   0.148468"
      ],
      "text/html": [
       "<div>\n",
       "<style scoped>\n",
       "    .dataframe tbody tr th:only-of-type {\n",
       "        vertical-align: middle;\n",
       "    }\n",
       "\n",
       "    .dataframe tbody tr th {\n",
       "        vertical-align: top;\n",
       "    }\n",
       "\n",
       "    .dataframe thead th {\n",
       "        text-align: right;\n",
       "    }\n",
       "</style>\n",
       "<table border=\"1\" class=\"dataframe\">\n",
       "  <thead>\n",
       "    <tr style=\"text-align: right;\">\n",
       "      <th></th>\n",
       "      <th>Money</th>\n",
       "      <th>Spending</th>\n",
       "    </tr>\n",
       "  </thead>\n",
       "  <tbody>\n",
       "    <tr>\n",
       "      <th>2015-01-01</th>\n",
       "      <td>-10.737028</td>\n",
       "      <td>37.666972</td>\n",
       "    </tr>\n",
       "    <tr>\n",
       "      <th>2015-02-01</th>\n",
       "      <td>-11.291961</td>\n",
       "      <td>-4.207931</td>\n",
       "    </tr>\n",
       "    <tr>\n",
       "      <th>2015-03-01</th>\n",
       "      <td>0.908876</td>\n",
       "      <td>-0.213768</td>\n",
       "    </tr>\n",
       "    <tr>\n",
       "      <th>2015-04-01</th>\n",
       "      <td>-1.644085</td>\n",
       "      <td>-0.359450</td>\n",
       "    </tr>\n",
       "    <tr>\n",
       "      <th>2015-05-01</th>\n",
       "      <td>0.797178</td>\n",
       "      <td>0.243995</td>\n",
       "    </tr>\n",
       "    <tr>\n",
       "      <th>2015-06-01</th>\n",
       "      <td>-0.254601</td>\n",
       "      <td>0.052320</td>\n",
       "    </tr>\n",
       "    <tr>\n",
       "      <th>2015-07-01</th>\n",
       "      <td>0.387318</td>\n",
       "      <td>0.191616</td>\n",
       "    </tr>\n",
       "    <tr>\n",
       "      <th>2015-08-01</th>\n",
       "      <td>0.057209</td>\n",
       "      <td>0.125128</td>\n",
       "    </tr>\n",
       "    <tr>\n",
       "      <th>2015-09-01</th>\n",
       "      <td>0.241188</td>\n",
       "      <td>0.163592</td>\n",
       "    </tr>\n",
       "    <tr>\n",
       "      <th>2015-10-01</th>\n",
       "      <td>0.142543</td>\n",
       "      <td>0.143324</td>\n",
       "    </tr>\n",
       "    <tr>\n",
       "      <th>2015-11-01</th>\n",
       "      <td>0.196417</td>\n",
       "      <td>0.154486</td>\n",
       "    </tr>\n",
       "    <tr>\n",
       "      <th>2015-12-01</th>\n",
       "      <td>0.167252</td>\n",
       "      <td>0.148468</td>\n",
       "    </tr>\n",
       "  </tbody>\n",
       "</table>\n",
       "</div>"
      ]
     },
     "execution_count": 13,
     "metadata": {},
     "output_type": "execute_result"
    }
   ],
   "execution_count": 13
  },
  {
   "cell_type": "markdown",
   "metadata": {},
   "source": [
    "## Invert the Transformation\n",
    "Remember that the forecasted values represent second-order differences. To compare them to the original data we have to roll back each difference. To roll back a first-order difference we take the most recent value on the training side of the original series, and add it to a cumulative sum of forecasted values. When working with second-order differences we first must perform this operation on the most recent first-order difference.\n",
    "\n",
    "Here we'll use the <tt>nobs</tt> variable we defined during the train/test/split step."
   ]
  },
  {
   "cell_type": "code",
   "metadata": {
    "ExecuteTime": {
     "end_time": "2025-06-26T04:03:31.101434Z",
     "start_time": "2025-06-26T04:03:31.090434Z"
    }
   },
   "source": [
    "# Add the most recent first difference from the training side of the original dataset to the forecast cumulative sum\n",
    "df_forecast['Money1d'] = (df['Money'].iloc[-nobs-1]-df['Money'].iloc[-nobs-2]) + df_forecast['Money'].cumsum()\n",
    "\n",
    "# Now build the forecast values from the first difference set\n",
    "df_forecast['MoneyForecast'] = df['Money'].iloc[-nobs-1] + df_forecast['Money'].cumsum()"
   ],
   "outputs": [],
   "execution_count": 14
  },
  {
   "cell_type": "code",
   "metadata": {
    "ExecuteTime": {
     "end_time": "2025-06-26T04:03:32.063714Z",
     "start_time": "2025-06-26T04:03:32.042550Z"
    }
   },
   "source": [
    "# Add the most recent first difference from the training side of the original dataset to the forecast cumulative sum\n",
    "df_forecast['Spending1d'] = (df['Spending'].iloc[-nobs-1]-df['Spending'].iloc[-nobs-2]) + df_forecast['Spending'].cumsum()\n",
    "\n",
    "# Now build the forecast values from the first difference set\n",
    "df_forecast['SpendingForecast'] = df['Spending'].iloc[-nobs-1] + df_forecast['Spending'].cumsum()"
   ],
   "outputs": [],
   "execution_count": 15
  },
  {
   "cell_type": "code",
   "metadata": {
    "ExecuteTime": {
     "end_time": "2025-06-26T04:03:33.056317Z",
     "start_time": "2025-06-26T04:03:33.032272Z"
    }
   },
   "source": [
    "df_forecast"
   ],
   "outputs": [
    {
     "data": {
      "text/plain": [
       "                Money   Spending    Money1d  MoneyForecast  Spending1d  \\\n",
       "2015-01-01 -10.737028  37.666972  67.862972   11659.362972   48.266972   \n",
       "2015-02-01 -11.291961  -4.207931  56.571011   11648.071011   44.059042   \n",
       "2015-03-01   0.908876  -0.213768  57.479887   11648.979887   43.845274   \n",
       "2015-04-01  -1.644085  -0.359450  55.835802   11647.335802   43.485824   \n",
       "2015-05-01   0.797178   0.243995  56.632979   11648.132979   43.729819   \n",
       "2015-06-01  -0.254601   0.052320  56.378378   11647.878378   43.782138   \n",
       "2015-07-01   0.387318   0.191616  56.765697   11648.265697   43.973755   \n",
       "2015-08-01   0.057209   0.125128  56.822906   11648.322906   44.098883   \n",
       "2015-09-01   0.241188   0.163592  57.064094   11648.564094   44.262475   \n",
       "2015-10-01   0.142543   0.143324  57.206637   11648.706637   44.405799   \n",
       "2015-11-01   0.196417   0.154486  57.403055   11648.903055   44.560285   \n",
       "2015-12-01   0.167252   0.148468  57.570307   11649.070307   44.708753   \n",
       "\n",
       "            SpendingForecast  \n",
       "2015-01-01      12099.666972  \n",
       "2015-02-01      12095.459042  \n",
       "2015-03-01      12095.245274  \n",
       "2015-04-01      12094.885824  \n",
       "2015-05-01      12095.129819  \n",
       "2015-06-01      12095.182138  \n",
       "2015-07-01      12095.373755  \n",
       "2015-08-01      12095.498883  \n",
       "2015-09-01      12095.662475  \n",
       "2015-10-01      12095.805799  \n",
       "2015-11-01      12095.960285  \n",
       "2015-12-01      12096.108753  "
      ],
      "text/html": [
       "<div>\n",
       "<style scoped>\n",
       "    .dataframe tbody tr th:only-of-type {\n",
       "        vertical-align: middle;\n",
       "    }\n",
       "\n",
       "    .dataframe tbody tr th {\n",
       "        vertical-align: top;\n",
       "    }\n",
       "\n",
       "    .dataframe thead th {\n",
       "        text-align: right;\n",
       "    }\n",
       "</style>\n",
       "<table border=\"1\" class=\"dataframe\">\n",
       "  <thead>\n",
       "    <tr style=\"text-align: right;\">\n",
       "      <th></th>\n",
       "      <th>Money</th>\n",
       "      <th>Spending</th>\n",
       "      <th>Money1d</th>\n",
       "      <th>MoneyForecast</th>\n",
       "      <th>Spending1d</th>\n",
       "      <th>SpendingForecast</th>\n",
       "    </tr>\n",
       "  </thead>\n",
       "  <tbody>\n",
       "    <tr>\n",
       "      <th>2015-01-01</th>\n",
       "      <td>-10.737028</td>\n",
       "      <td>37.666972</td>\n",
       "      <td>67.862972</td>\n",
       "      <td>11659.362972</td>\n",
       "      <td>48.266972</td>\n",
       "      <td>12099.666972</td>\n",
       "    </tr>\n",
       "    <tr>\n",
       "      <th>2015-02-01</th>\n",
       "      <td>-11.291961</td>\n",
       "      <td>-4.207931</td>\n",
       "      <td>56.571011</td>\n",
       "      <td>11648.071011</td>\n",
       "      <td>44.059042</td>\n",
       "      <td>12095.459042</td>\n",
       "    </tr>\n",
       "    <tr>\n",
       "      <th>2015-03-01</th>\n",
       "      <td>0.908876</td>\n",
       "      <td>-0.213768</td>\n",
       "      <td>57.479887</td>\n",
       "      <td>11648.979887</td>\n",
       "      <td>43.845274</td>\n",
       "      <td>12095.245274</td>\n",
       "    </tr>\n",
       "    <tr>\n",
       "      <th>2015-04-01</th>\n",
       "      <td>-1.644085</td>\n",
       "      <td>-0.359450</td>\n",
       "      <td>55.835802</td>\n",
       "      <td>11647.335802</td>\n",
       "      <td>43.485824</td>\n",
       "      <td>12094.885824</td>\n",
       "    </tr>\n",
       "    <tr>\n",
       "      <th>2015-05-01</th>\n",
       "      <td>0.797178</td>\n",
       "      <td>0.243995</td>\n",
       "      <td>56.632979</td>\n",
       "      <td>11648.132979</td>\n",
       "      <td>43.729819</td>\n",
       "      <td>12095.129819</td>\n",
       "    </tr>\n",
       "    <tr>\n",
       "      <th>2015-06-01</th>\n",
       "      <td>-0.254601</td>\n",
       "      <td>0.052320</td>\n",
       "      <td>56.378378</td>\n",
       "      <td>11647.878378</td>\n",
       "      <td>43.782138</td>\n",
       "      <td>12095.182138</td>\n",
       "    </tr>\n",
       "    <tr>\n",
       "      <th>2015-07-01</th>\n",
       "      <td>0.387318</td>\n",
       "      <td>0.191616</td>\n",
       "      <td>56.765697</td>\n",
       "      <td>11648.265697</td>\n",
       "      <td>43.973755</td>\n",
       "      <td>12095.373755</td>\n",
       "    </tr>\n",
       "    <tr>\n",
       "      <th>2015-08-01</th>\n",
       "      <td>0.057209</td>\n",
       "      <td>0.125128</td>\n",
       "      <td>56.822906</td>\n",
       "      <td>11648.322906</td>\n",
       "      <td>44.098883</td>\n",
       "      <td>12095.498883</td>\n",
       "    </tr>\n",
       "    <tr>\n",
       "      <th>2015-09-01</th>\n",
       "      <td>0.241188</td>\n",
       "      <td>0.163592</td>\n",
       "      <td>57.064094</td>\n",
       "      <td>11648.564094</td>\n",
       "      <td>44.262475</td>\n",
       "      <td>12095.662475</td>\n",
       "    </tr>\n",
       "    <tr>\n",
       "      <th>2015-10-01</th>\n",
       "      <td>0.142543</td>\n",
       "      <td>0.143324</td>\n",
       "      <td>57.206637</td>\n",
       "      <td>11648.706637</td>\n",
       "      <td>44.405799</td>\n",
       "      <td>12095.805799</td>\n",
       "    </tr>\n",
       "    <tr>\n",
       "      <th>2015-11-01</th>\n",
       "      <td>0.196417</td>\n",
       "      <td>0.154486</td>\n",
       "      <td>57.403055</td>\n",
       "      <td>11648.903055</td>\n",
       "      <td>44.560285</td>\n",
       "      <td>12095.960285</td>\n",
       "    </tr>\n",
       "    <tr>\n",
       "      <th>2015-12-01</th>\n",
       "      <td>0.167252</td>\n",
       "      <td>0.148468</td>\n",
       "      <td>57.570307</td>\n",
       "      <td>11649.070307</td>\n",
       "      <td>44.708753</td>\n",
       "      <td>12096.108753</td>\n",
       "    </tr>\n",
       "  </tbody>\n",
       "</table>\n",
       "</div>"
      ]
     },
     "execution_count": 16,
     "metadata": {},
     "output_type": "execute_result"
    }
   ],
   "execution_count": 16
  },
  {
   "cell_type": "code",
   "metadata": {
    "ExecuteTime": {
     "end_time": "2025-06-26T04:03:41.723512Z",
     "start_time": "2025-06-26T04:03:41.700511Z"
    }
   },
   "source": [
    "pd.concat([df.iloc[-12:],df_forecast[['MoneyForecast','SpendingForecast']]],axis=1)"
   ],
   "outputs": [
    {
     "data": {
      "text/plain": [
       "              Money  Spending  MoneyForecast  SpendingForecast\n",
       "2015-01-01  11733.2   12046.0   11659.362972      12099.666972\n",
       "2015-02-01  11852.4   12082.4   11648.071011      12095.459042\n",
       "2015-03-01  11868.8   12158.3   11648.979887      12095.245274\n",
       "2015-04-01  11916.1   12193.8   11647.335802      12094.885824\n",
       "2015-05-01  11947.6   12268.1   11648.132979      12095.129819\n",
       "2015-06-01  11993.1   12308.3   11647.878378      12095.182138\n",
       "2015-07-01  12045.3   12355.4   11648.265697      12095.373755\n",
       "2015-08-01  12096.8   12394.0   11648.322906      12095.498883\n",
       "2015-09-01  12153.8   12392.8   11648.564094      12095.662475\n",
       "2015-10-01  12187.7   12416.1   11648.706637      12095.805799\n",
       "2015-11-01  12277.4   12450.1   11648.903055      12095.960285\n",
       "2015-12-01  12335.9   12469.1   11649.070307      12096.108753"
      ],
      "text/html": [
       "<div>\n",
       "<style scoped>\n",
       "    .dataframe tbody tr th:only-of-type {\n",
       "        vertical-align: middle;\n",
       "    }\n",
       "\n",
       "    .dataframe tbody tr th {\n",
       "        vertical-align: top;\n",
       "    }\n",
       "\n",
       "    .dataframe thead th {\n",
       "        text-align: right;\n",
       "    }\n",
       "</style>\n",
       "<table border=\"1\" class=\"dataframe\">\n",
       "  <thead>\n",
       "    <tr style=\"text-align: right;\">\n",
       "      <th></th>\n",
       "      <th>Money</th>\n",
       "      <th>Spending</th>\n",
       "      <th>MoneyForecast</th>\n",
       "      <th>SpendingForecast</th>\n",
       "    </tr>\n",
       "  </thead>\n",
       "  <tbody>\n",
       "    <tr>\n",
       "      <th>2015-01-01</th>\n",
       "      <td>11733.2</td>\n",
       "      <td>12046.0</td>\n",
       "      <td>11659.362972</td>\n",
       "      <td>12099.666972</td>\n",
       "    </tr>\n",
       "    <tr>\n",
       "      <th>2015-02-01</th>\n",
       "      <td>11852.4</td>\n",
       "      <td>12082.4</td>\n",
       "      <td>11648.071011</td>\n",
       "      <td>12095.459042</td>\n",
       "    </tr>\n",
       "    <tr>\n",
       "      <th>2015-03-01</th>\n",
       "      <td>11868.8</td>\n",
       "      <td>12158.3</td>\n",
       "      <td>11648.979887</td>\n",
       "      <td>12095.245274</td>\n",
       "    </tr>\n",
       "    <tr>\n",
       "      <th>2015-04-01</th>\n",
       "      <td>11916.1</td>\n",
       "      <td>12193.8</td>\n",
       "      <td>11647.335802</td>\n",
       "      <td>12094.885824</td>\n",
       "    </tr>\n",
       "    <tr>\n",
       "      <th>2015-05-01</th>\n",
       "      <td>11947.6</td>\n",
       "      <td>12268.1</td>\n",
       "      <td>11648.132979</td>\n",
       "      <td>12095.129819</td>\n",
       "    </tr>\n",
       "    <tr>\n",
       "      <th>2015-06-01</th>\n",
       "      <td>11993.1</td>\n",
       "      <td>12308.3</td>\n",
       "      <td>11647.878378</td>\n",
       "      <td>12095.182138</td>\n",
       "    </tr>\n",
       "    <tr>\n",
       "      <th>2015-07-01</th>\n",
       "      <td>12045.3</td>\n",
       "      <td>12355.4</td>\n",
       "      <td>11648.265697</td>\n",
       "      <td>12095.373755</td>\n",
       "    </tr>\n",
       "    <tr>\n",
       "      <th>2015-08-01</th>\n",
       "      <td>12096.8</td>\n",
       "      <td>12394.0</td>\n",
       "      <td>11648.322906</td>\n",
       "      <td>12095.498883</td>\n",
       "    </tr>\n",
       "    <tr>\n",
       "      <th>2015-09-01</th>\n",
       "      <td>12153.8</td>\n",
       "      <td>12392.8</td>\n",
       "      <td>11648.564094</td>\n",
       "      <td>12095.662475</td>\n",
       "    </tr>\n",
       "    <tr>\n",
       "      <th>2015-10-01</th>\n",
       "      <td>12187.7</td>\n",
       "      <td>12416.1</td>\n",
       "      <td>11648.706637</td>\n",
       "      <td>12095.805799</td>\n",
       "    </tr>\n",
       "    <tr>\n",
       "      <th>2015-11-01</th>\n",
       "      <td>12277.4</td>\n",
       "      <td>12450.1</td>\n",
       "      <td>11648.903055</td>\n",
       "      <td>12095.960285</td>\n",
       "    </tr>\n",
       "    <tr>\n",
       "      <th>2015-12-01</th>\n",
       "      <td>12335.9</td>\n",
       "      <td>12469.1</td>\n",
       "      <td>11649.070307</td>\n",
       "      <td>12096.108753</td>\n",
       "    </tr>\n",
       "  </tbody>\n",
       "</table>\n",
       "</div>"
      ]
     },
     "execution_count": 17,
     "metadata": {},
     "output_type": "execute_result"
    }
   ],
   "execution_count": 17
  },
  {
   "cell_type": "markdown",
   "metadata": {},
   "source": [
    "## Plot the results"
   ]
  },
  {
   "cell_type": "code",
   "metadata": {
    "ExecuteTime": {
     "end_time": "2025-06-26T04:03:46.023274Z",
     "start_time": "2025-06-26T04:03:45.915753Z"
    }
   },
   "source": [
    "df['Money'][-nobs:].plot(figsize=(12,5),legend=True).autoscale(axis='x',tight=True)\n",
    "df_forecast['MoneyForecast'].plot(legend=True);"
   ],
   "outputs": [
    {
     "data": {
      "text/plain": [
       "<Figure size 1200x500 with 1 Axes>"
      ],
      "image/png": "[encoded data removed]"
     },
     "metadata": {},
     "output_type": "display_data"
    }
   ],
   "execution_count": 18
  },
  {
   "cell_type": "code",
   "metadata": {
    "ExecuteTime": {
     "end_time": "2025-06-26T04:03:51.021757Z",
     "start_time": "2025-06-26T04:03:50.905020Z"
    }
   },
   "source": [
    "df['Spending'][-nobs:].plot(figsize=(12,5),legend=True).autoscale(axis='x',tight=True)\n",
    "df_forecast['SpendingForecast'].plot(legend=True);"
   ],
   "outputs": [
    {
     "data": {
      "text/plain": [
       "<Figure size 1200x500 with 1 Axes>"
      ],
      "image/png": "[encoded data removed]"
     },
     "metadata": {},
     "output_type": "display_data"
    }
   ],
   "execution_count": 19
  },
  {
   "cell_type": "markdown",
   "metadata": {},
   "source": [
    "### Evaluate the model\n",
    "\n",
    "&nbsp;&nbsp;&nbsp;&nbsp;$RMSE = \\sqrt{{\\frac 1 L} \\sum\\limits_{l=1}^L (y_{T+l} - \\hat y_{T+l})^2}$<br><br>\n",
    "where $T$ is the last observation period and $l$ is the lag."
   ]
  },
  {
   "cell_type": "code",
   "metadata": {
    "ExecuteTime": {
     "end_time": "2025-06-26T04:03:54.488652Z",
     "start_time": "2025-06-26T04:03:54.476583Z"
    }
   },
   "source": [
    "RMSE1 = rmse(df['Money'][-nobs:], df_forecast['MoneyForecast'])\n",
    "print(f'Money VAR(5) RMSE: {RMSE1:.3f}')"
   ],
   "outputs": [
    {
     "name": "stdout",
     "output_type": "stream",
     "text": [
      "Money VAR(5) RMSE: 423.074\n"
     ]
    }
   ],
   "execution_count": 20
  },
  {
   "cell_type": "code",
   "metadata": {
    "ExecuteTime": {
     "end_time": "2025-06-26T04:03:59.186852Z",
     "start_time": "2025-06-26T04:03:59.168688Z"
    }
   },
   "source": [
    "RMSE2 = rmse(df['Spending'][-nobs:], df_forecast['SpendingForecast'])\n",
    "print(f'Spending VAR(5) RMSE: {RMSE2:.3f}')"
   ],
   "outputs": [
    {
     "name": "stdout",
     "output_type": "stream",
     "text": [
      "Spending VAR(5) RMSE: 242.260\n"
     ]
    }
   ],
   "execution_count": 21
  },
  {
   "cell_type": "markdown",
   "metadata": {},
   "source": [
    "Clearly these results are less accurate than our earlier VAR(5) model. Still, this tells us something!\n",
    "## Let's compare these results to individual ARMA(1,2) models"
   ]
  },
  {
   "cell_type": "code",
   "metadata": {
    "ExecuteTime": {
     "end_time": "2025-06-26T04:06:15.702152Z",
     "start_time": "2025-06-26T04:06:15.687598Z"
    }
   },
   "source": [
    "from statsmodels.tsa.arima_model import ARIMA,ARMAResults\n",
    "from statsmodels.tsa.arima.model import ARIMA"
   ],
   "outputs": [],
   "execution_count": 27
  },
  {
   "cell_type": "markdown",
   "metadata": {},
   "source": [
    "### Money"
   ]
  },
  {
   "cell_type": "code",
   "metadata": {
    "ExecuteTime": {
     "end_time": "2025-06-26T04:10:33.726064Z",
     "start_time": "2025-06-26T04:10:33.464153Z"
    }
   },
   "source": [
    "model = ARIMA(train['Money'],order=(1,0,2))\n",
    "results = model.fit()\n",
    "results.summary()"
   ],
   "outputs": [
    {
     "data": {
      "text/plain": [
       "<class 'statsmodels.iolib.summary.Summary'>\n",
       "\"\"\"\n",
       "                               SARIMAX Results                                \n",
       "==============================================================================\n",
       "Dep. Variable:                  Money   No. Observations:                  238\n",
       "Model:                 ARIMA(1, 0, 2)   Log Likelihood               -1117.710\n",
       "Date:                Thu, 26 Jun 2025   AIC                           2245.421\n",
       "Time:                        00:10:33   BIC                           2262.782\n",
       "Sample:                    03-01-1995   HQIC                          2252.418\n",
       "                         - 12-01-2014                                         \n",
       "Covariance Type:                  opg                                         \n",
       "==============================================================================\n",
       "                 coef    std err          z      P>|z|      [0.025      0.975]\n",
       "------------------------------------------------------------------------------\n",
       "const          0.1814      0.032      5.639      0.000       0.118       0.244\n",
       "ar.L1         -0.3569      0.176     -2.031      0.042      -0.701      -0.012\n",
       "ma.L1         -0.4086      2.214     -0.185      0.854      -4.748       3.931\n",
       "ma.L2         -0.5913      1.264     -0.468      0.640      -3.070       1.887\n",
       "sigma2       687.1734   1498.686      0.459      0.647   -2250.197    3624.544\n",
       "===================================================================================\n",
       "Ljung-Box (L1) (Q):                   0.34   Jarque-Bera (JB):               775.38\n",
       "Prob(Q):                              0.56   Prob(JB):                         0.00\n",
       "Heteroskedasticity (H):               6.83   Skew:                             1.61\n",
       "Prob(H) (two-sided):                  0.00   Kurtosis:                        11.23\n",
       "===================================================================================\n",
       "\n",
       "Warnings:\n",
       "[1] Covariance matrix calculated using the outer product of gradients (complex-step).\n",
       "\"\"\""
      ],
      "text/html": [
       "<table class=\"simpletable\">\n",
       "<caption>SARIMAX Results</caption>\n",
       "<tr>\n",
       "  <th>Dep. Variable:</th>         <td>Money</td>      <th>  No. Observations:  </th>    <td>238</td>   \n",
       "</tr>\n",
       "<tr>\n",
       "  <th>Model:</th>            <td>ARIMA(1, 0, 2)</td>  <th>  Log Likelihood     </th> <td>-1117.710</td>\n",
       "</tr>\n",
       "<tr>\n",
       "  <th>Date:</th>            <td>Thu, 26 Jun 2025</td> <th>  AIC                </th> <td>2245.421</td> \n",
       "</tr>\n",
       "<tr>\n",
       "  <th>Time:</th>                <td>00:10:33</td>     <th>  BIC                </th> <td>2262.782</td> \n",
       "</tr>\n",
       "<tr>\n",
       "  <th>Sample:</th>             <td>03-01-1995</td>    <th>  HQIC               </th> <td>2252.418</td> \n",
       "</tr>\n",
       "<tr>\n",
       "  <th></th>                   <td>- 12-01-2014</td>   <th>                     </th>     <td> </td>    \n",
       "</tr>\n",
       "<tr>\n",
       "  <th>Covariance Type:</th>        <td>opg</td>       <th>                     </th>     <td> </td>    \n",
       "</tr>\n",
       "</table>\n",
       "<table class=\"simpletable\">\n",
       "<tr>\n",
       "     <td></td>       <th>coef</th>     <th>std err</th>      <th>z</th>      <th>P>|z|</th>  <th>[0.025</th>    <th>0.975]</th>  \n",
       "</tr>\n",
       "<tr>\n",
       "  <th>const</th>  <td>    0.1814</td> <td>    0.032</td> <td>    5.639</td> <td> 0.000</td> <td>    0.118</td> <td>    0.244</td>\n",
       "</tr>\n",
       "<tr>\n",
       "  <th>ar.L1</th>  <td>   -0.3569</td> <td>    0.176</td> <td>   -2.031</td> <td> 0.042</td> <td>   -0.701</td> <td>   -0.012</td>\n",
       "</tr>\n",
       "<tr>\n",
       "  <th>ma.L1</th>  <td>   -0.4086</td> <td>    2.214</td> <td>   -0.185</td> <td> 0.854</td> <td>   -4.748</td> <td>    3.931</td>\n",
       "</tr>\n",
       "<tr>\n",
       "  <th>ma.L2</th>  <td>   -0.5913</td> <td>    1.264</td> <td>   -0.468</td> <td> 0.640</td> <td>   -3.070</td> <td>    1.887</td>\n",
       "</tr>\n",
       "<tr>\n",
       "  <th>sigma2</th> <td>  687.1734</td> <td> 1498.686</td> <td>    0.459</td> <td> 0.647</td> <td>-2250.197</td> <td> 3624.544</td>\n",
       "</tr>\n",
       "</table>\n",
       "<table class=\"simpletable\">\n",
       "<tr>\n",
       "  <th>Ljung-Box (L1) (Q):</th>     <td>0.34</td> <th>  Jarque-Bera (JB):  </th> <td>775.38</td>\n",
       "</tr>\n",
       "<tr>\n",
       "  <th>Prob(Q):</th>                <td>0.56</td> <th>  Prob(JB):          </th>  <td>0.00</td> \n",
       "</tr>\n",
       "<tr>\n",
       "  <th>Heteroskedasticity (H):</th> <td>6.83</td> <th>  Skew:              </th>  <td>1.61</td> \n",
       "</tr>\n",
       "<tr>\n",
       "  <th>Prob(H) (two-sided):</th>    <td>0.00</td> <th>  Kurtosis:          </th>  <td>11.23</td>\n",
       "</tr>\n",
       "</table><br/><br/>Warnings:<br/>[1] Covariance matrix calculated using the outer product of gradients (complex-step)."
      ]
     },
     "execution_count": 33,
     "metadata": {},
     "output_type": "execute_result"
    }
   ],
   "execution_count": 33
  },
  {
   "cell_type": "code",
   "metadata": {
    "ExecuteTime": {
     "end_time": "2025-06-26T04:10:38.354677Z",
     "start_time": "2025-06-26T04:10:38.327077Z"
    }
   },
   "source": [
    "start=len(train)\n",
    "end=len(train)+len(test)-1\n",
    "z1 = results.predict(start=start, end=end).rename('Money')\n",
    "z1 = pd.DataFrame(z1)"
   ],
   "outputs": [],
   "execution_count": 34
  },
  {
   "cell_type": "code",
   "metadata": {
    "ExecuteTime": {
     "end_time": "2025-06-26T04:10:39.844789Z",
     "start_time": "2025-06-26T04:10:39.833024Z"
    }
   },
   "source": [
    "z1"
   ],
   "outputs": [
    {
     "data": {
      "text/plain": [
       "                Money\n",
       "2015-01-01 -14.428737\n",
       "2015-02-01 -10.905691\n",
       "2015-03-01   4.138685\n",
       "2015-04-01  -1.231078\n",
       "2015-05-01   0.685542\n",
       "2015-06-01   0.001446\n",
       "2015-07-01   0.245619\n",
       "2015-08-01   0.158467\n",
       "2015-09-01   0.189574\n",
       "2015-10-01   0.178471\n",
       "2015-11-01   0.182434\n",
       "2015-12-01   0.181020"
      ],
      "text/html": [
       "<div>\n",
       "<style scoped>\n",
       "    .dataframe tbody tr th:only-of-type {\n",
       "        vertical-align: middle;\n",
       "    }\n",
       "\n",
       "    .dataframe tbody tr th {\n",
       "        vertical-align: top;\n",
       "    }\n",
       "\n",
       "    .dataframe thead th {\n",
       "        text-align: right;\n",
       "    }\n",
       "</style>\n",
       "<table border=\"1\" class=\"dataframe\">\n",
       "  <thead>\n",
       "    <tr style=\"text-align: right;\">\n",
       "      <th></th>\n",
       "      <th>Money</th>\n",
       "    </tr>\n",
       "  </thead>\n",
       "  <tbody>\n",
       "    <tr>\n",
       "      <th>2015-01-01</th>\n",
       "      <td>-14.428737</td>\n",
       "    </tr>\n",
       "    <tr>\n",
       "      <th>2015-02-01</th>\n",
       "      <td>-10.905691</td>\n",
       "    </tr>\n",
       "    <tr>\n",
       "      <th>2015-03-01</th>\n",
       "      <td>4.138685</td>\n",
       "    </tr>\n",
       "    <tr>\n",
       "      <th>2015-04-01</th>\n",
       "      <td>-1.231078</td>\n",
       "    </tr>\n",
       "    <tr>\n",
       "      <th>2015-05-01</th>\n",
       "      <td>0.685542</td>\n",
       "    </tr>\n",
       "    <tr>\n",
       "      <th>2015-06-01</th>\n",
       "      <td>0.001446</td>\n",
       "    </tr>\n",
       "    <tr>\n",
       "      <th>2015-07-01</th>\n",
       "      <td>0.245619</td>\n",
       "    </tr>\n",
       "    <tr>\n",
       "      <th>2015-08-01</th>\n",
       "      <td>0.158467</td>\n",
       "    </tr>\n",
       "    <tr>\n",
       "      <th>2015-09-01</th>\n",
       "      <td>0.189574</td>\n",
       "    </tr>\n",
       "    <tr>\n",
       "      <th>2015-10-01</th>\n",
       "      <td>0.178471</td>\n",
       "    </tr>\n",
       "    <tr>\n",
       "      <th>2015-11-01</th>\n",
       "      <td>0.182434</td>\n",
       "    </tr>\n",
       "    <tr>\n",
       "      <th>2015-12-01</th>\n",
       "      <td>0.181020</td>\n",
       "    </tr>\n",
       "  </tbody>\n",
       "</table>\n",
       "</div>"
      ]
     },
     "execution_count": 35,
     "metadata": {},
     "output_type": "execute_result"
    }
   ],
   "execution_count": 35
  },
  {
   "cell_type": "markdown",
   "metadata": {},
   "source": [
    "### Invert the Transformation, Evaluate the Forecast"
   ]
  },
  {
   "cell_type": "code",
   "metadata": {
    "ExecuteTime": {
     "end_time": "2025-06-26T04:10:43.893486Z",
     "start_time": "2025-06-26T04:10:43.879482Z"
    }
   },
   "source": [
    "# Add the most recent first difference from the training set to the forecast cumulative sum\n",
    "z1['Money1d'] = (df['Money'].iloc[-nobs-1]-df['Money'].iloc[-nobs-2]) + z1['Money'].cumsum()\n",
    "\n",
    "# Now build the forecast values from the first difference set\n",
    "z1['MoneyForecast'] = df['Money'].iloc[-nobs-1] + z1['Money1d'].cumsum()"
   ],
   "outputs": [],
   "execution_count": 36
  },
  {
   "cell_type": "code",
   "metadata": {
    "ExecuteTime": {
     "end_time": "2025-06-26T04:10:46.449976Z",
     "start_time": "2025-06-26T04:10:46.430978Z"
    }
   },
   "source": [
    "z1"
   ],
   "outputs": [
    {
     "data": {
      "text/plain": [
       "                Money    Money1d  MoneyForecast\n",
       "2015-01-01 -14.428737  64.171263   11734.271263\n",
       "2015-02-01 -10.905691  53.265572   11787.536836\n",
       "2015-03-01   4.138685  57.404257   11844.941093\n",
       "2015-04-01  -1.231078  56.173179   11901.114272\n",
       "2015-05-01   0.685542  56.858722   11957.972994\n",
       "2015-06-01   0.001446  56.860168   12014.833162\n",
       "2015-07-01   0.245619  57.105787   12071.938949\n",
       "2015-08-01   0.158467  57.264254   12129.203203\n",
       "2015-09-01   0.189574  57.453829   12186.657032\n",
       "2015-10-01   0.178471  57.632300   12244.289332\n",
       "2015-11-01   0.182434  57.814734   12302.104066\n",
       "2015-12-01   0.181020  57.995754   12360.099820"
      ],
      "text/html": [
       "<div>\n",
       "<style scoped>\n",
       "    .dataframe tbody tr th:only-of-type {\n",
       "        vertical-align: middle;\n",
       "    }\n",
       "\n",
       "    .dataframe tbody tr th {\n",
       "        vertical-align: top;\n",
       "    }\n",
       "\n",
       "    .dataframe thead th {\n",
       "        text-align: right;\n",
       "    }\n",
       "</style>\n",
       "<table border=\"1\" class=\"dataframe\">\n",
       "  <thead>\n",
       "    <tr style=\"text-align: right;\">\n",
       "      <th></th>\n",
       "      <th>Money</th>\n",
       "      <th>Money1d</th>\n",
       "      <th>MoneyForecast</th>\n",
       "    </tr>\n",
       "  </thead>\n",
       "  <tbody>\n",
       "    <tr>\n",
       "      <th>2015-01-01</th>\n",
       "      <td>-14.428737</td>\n",
       "      <td>64.171263</td>\n",
       "      <td>11734.271263</td>\n",
       "    </tr>\n",
       "    <tr>\n",
       "      <th>2015-02-01</th>\n",
       "      <td>-10.905691</td>\n",
       "      <td>53.265572</td>\n",
       "      <td>11787.536836</td>\n",
       "    </tr>\n",
       "    <tr>\n",
       "      <th>2015-03-01</th>\n",
       "      <td>4.138685</td>\n",
       "      <td>57.404257</td>\n",
       "      <td>11844.941093</td>\n",
       "    </tr>\n",
       "    <tr>\n",
       "      <th>2015-04-01</th>\n",
       "      <td>-1.231078</td>\n",
       "      <td>56.173179</td>\n",
       "      <td>11901.114272</td>\n",
       "    </tr>\n",
       "    <tr>\n",
       "      <th>2015-05-01</th>\n",
       "      <td>0.685542</td>\n",
       "      <td>56.858722</td>\n",
       "      <td>11957.972994</td>\n",
       "    </tr>\n",
       "    <tr>\n",
       "      <th>2015-06-01</th>\n",
       "      <td>0.001446</td>\n",
       "      <td>56.860168</td>\n",
       "      <td>12014.833162</td>\n",
       "    </tr>\n",
       "    <tr>\n",
       "      <th>2015-07-01</th>\n",
       "      <td>0.245619</td>\n",
       "      <td>57.105787</td>\n",
       "      <td>12071.938949</td>\n",
       "    </tr>\n",
       "    <tr>\n",
       "      <th>2015-08-01</th>\n",
       "      <td>0.158467</td>\n",
       "      <td>57.264254</td>\n",
       "      <td>12129.203203</td>\n",
       "    </tr>\n",
       "    <tr>\n",
       "      <th>2015-09-01</th>\n",
       "      <td>0.189574</td>\n",
       "      <td>57.453829</td>\n",
       "      <td>12186.657032</td>\n",
       "    </tr>\n",
       "    <tr>\n",
       "      <th>2015-10-01</th>\n",
       "      <td>0.178471</td>\n",
       "      <td>57.632300</td>\n",
       "      <td>12244.289332</td>\n",
       "    </tr>\n",
       "    <tr>\n",
       "      <th>2015-11-01</th>\n",
       "      <td>0.182434</td>\n",
       "      <td>57.814734</td>\n",
       "      <td>12302.104066</td>\n",
       "    </tr>\n",
       "    <tr>\n",
       "      <th>2015-12-01</th>\n",
       "      <td>0.181020</td>\n",
       "      <td>57.995754</td>\n",
       "      <td>12360.099820</td>\n",
       "    </tr>\n",
       "  </tbody>\n",
       "</table>\n",
       "</div>"
      ]
     },
     "execution_count": 37,
     "metadata": {},
     "output_type": "execute_result"
    }
   ],
   "execution_count": 37
  },
  {
   "cell_type": "code",
   "metadata": {
    "ExecuteTime": {
     "end_time": "2025-06-26T04:10:50.158854Z",
     "start_time": "2025-06-26T04:10:50.144857Z"
    }
   },
   "source": [
    "RMSE3 = rmse(df['Money'][-nobs:], z1['MoneyForecast'])\n",
    "\n",
    "print(f'Money VARMA(1,2) RMSE: {RMSE1:.3f}')\n",
    "print(f'Money  ARMA(1,2) RMSE: {RMSE3:.3f}')"
   ],
   "outputs": [
    {
     "name": "stdout",
     "output_type": "stream",
     "text": [
      "Money VARMA(1,2) RMSE: 423.074\n",
      "Money  ARMA(1,2) RMSE: 32.685\n"
     ]
    }
   ],
   "execution_count": 38
  },
  {
   "cell_type": "markdown",
   "metadata": {},
   "source": [
    "## Personal Spending"
   ]
  },
  {
   "cell_type": "code",
   "metadata": {
    "ExecuteTime": {
     "end_time": "2025-06-26T04:11:07.785642Z",
     "start_time": "2025-06-26T04:11:07.637477Z"
    }
   },
   "source": [
    "model = ARIMA(train['Spending'],order=(1,0,2))\n",
    "results = model.fit()\n",
    "results.summary()"
   ],
   "outputs": [
    {
     "data": {
      "text/plain": [
       "<class 'statsmodels.iolib.summary.Summary'>\n",
       "\"\"\"\n",
       "                               SARIMAX Results                                \n",
       "==============================================================================\n",
       "Dep. Variable:               Spending   No. Observations:                  238\n",
       "Model:                 ARIMA(1, 0, 2)   Log Likelihood               -1182.411\n",
       "Date:                Thu, 26 Jun 2025   AIC                           2374.823\n",
       "Time:                        00:11:07   BIC                           2392.184\n",
       "Sample:                    03-01-1995   HQIC                          2381.820\n",
       "                         - 12-01-2014                                         \n",
       "Covariance Type:                  opg                                         \n",
       "==============================================================================\n",
       "                 coef    std err          z      P>|z|      [0.025      0.975]\n",
       "------------------------------------------------------------------------------\n",
       "const          0.0856      0.279      0.307      0.759      -0.461       0.632\n",
       "ar.L1         -0.3403      0.545     -0.624      0.532      -1.408       0.728\n",
       "ma.L1         -0.6451      0.549     -1.174      0.240      -1.722       0.432\n",
       "ma.L2         -0.2139      0.507     -0.422      0.673      -1.207       0.779\n",
       "sigma2      1201.3966     66.509     18.064      0.000    1071.042    1331.751\n",
       "===================================================================================\n",
       "Ljung-Box (L1) (Q):                   0.00   Jarque-Bera (JB):               184.55\n",
       "Prob(Q):                              0.99   Prob(JB):                         0.00\n",
       "Heteroskedasticity (H):               2.72   Skew:                            -0.17\n",
       "Prob(H) (two-sided):                  0.00   Kurtosis:                         7.30\n",
       "===================================================================================\n",
       "\n",
       "Warnings:\n",
       "[1] Covariance matrix calculated using the outer product of gradients (complex-step).\n",
       "\"\"\""
      ],
      "text/html": [
       "<table class=\"simpletable\">\n",
       "<caption>SARIMAX Results</caption>\n",
       "<tr>\n",
       "  <th>Dep. Variable:</th>       <td>Spending</td>     <th>  No. Observations:  </th>    <td>238</td>   \n",
       "</tr>\n",
       "<tr>\n",
       "  <th>Model:</th>            <td>ARIMA(1, 0, 2)</td>  <th>  Log Likelihood     </th> <td>-1182.411</td>\n",
       "</tr>\n",
       "<tr>\n",
       "  <th>Date:</th>            <td>Thu, 26 Jun 2025</td> <th>  AIC                </th> <td>2374.823</td> \n",
       "</tr>\n",
       "<tr>\n",
       "  <th>Time:</th>                <td>00:11:07</td>     <th>  BIC                </th> <td>2392.184</td> \n",
       "</tr>\n",
       "<tr>\n",
       "  <th>Sample:</th>             <td>03-01-1995</td>    <th>  HQIC               </th> <td>2381.820</td> \n",
       "</tr>\n",
       "<tr>\n",
       "  <th></th>                   <td>- 12-01-2014</td>   <th>                     </th>     <td> </td>    \n",
       "</tr>\n",
       "<tr>\n",
       "  <th>Covariance Type:</th>        <td>opg</td>       <th>                     </th>     <td> </td>    \n",
       "</tr>\n",
       "</table>\n",
       "<table class=\"simpletable\">\n",
       "<tr>\n",
       "     <td></td>       <th>coef</th>     <th>std err</th>      <th>z</th>      <th>P>|z|</th>  <th>[0.025</th>    <th>0.975]</th>  \n",
       "</tr>\n",
       "<tr>\n",
       "  <th>const</th>  <td>    0.0856</td> <td>    0.279</td> <td>    0.307</td> <td> 0.759</td> <td>   -0.461</td> <td>    0.632</td>\n",
       "</tr>\n",
       "<tr>\n",
       "  <th>ar.L1</th>  <td>   -0.3403</td> <td>    0.545</td> <td>   -0.624</td> <td> 0.532</td> <td>   -1.408</td> <td>    0.728</td>\n",
       "</tr>\n",
       "<tr>\n",
       "  <th>ma.L1</th>  <td>   -0.6451</td> <td>    0.549</td> <td>   -1.174</td> <td> 0.240</td> <td>   -1.722</td> <td>    0.432</td>\n",
       "</tr>\n",
       "<tr>\n",
       "  <th>ma.L2</th>  <td>   -0.2139</td> <td>    0.507</td> <td>   -0.422</td> <td> 0.673</td> <td>   -1.207</td> <td>    0.779</td>\n",
       "</tr>\n",
       "<tr>\n",
       "  <th>sigma2</th> <td> 1201.3966</td> <td>   66.509</td> <td>   18.064</td> <td> 0.000</td> <td> 1071.042</td> <td> 1331.751</td>\n",
       "</tr>\n",
       "</table>\n",
       "<table class=\"simpletable\">\n",
       "<tr>\n",
       "  <th>Ljung-Box (L1) (Q):</th>     <td>0.00</td> <th>  Jarque-Bera (JB):  </th> <td>184.55</td>\n",
       "</tr>\n",
       "<tr>\n",
       "  <th>Prob(Q):</th>                <td>0.99</td> <th>  Prob(JB):          </th>  <td>0.00</td> \n",
       "</tr>\n",
       "<tr>\n",
       "  <th>Heteroskedasticity (H):</th> <td>2.72</td> <th>  Skew:              </th>  <td>-0.17</td>\n",
       "</tr>\n",
       "<tr>\n",
       "  <th>Prob(H) (two-sided):</th>    <td>0.00</td> <th>  Kurtosis:          </th>  <td>7.30</td> \n",
       "</tr>\n",
       "</table><br/><br/>Warnings:<br/>[1] Covariance matrix calculated using the outer product of gradients (complex-step)."
      ]
     },
     "execution_count": 39,
     "metadata": {},
     "output_type": "execute_result"
    }
   ],
   "execution_count": 39
  },
  {
   "cell_type": "code",
   "metadata": {
    "ExecuteTime": {
     "end_time": "2025-06-26T04:11:09.350179Z",
     "start_time": "2025-06-26T04:11:09.321441Z"
    }
   },
   "source": [
    "start=len(train)\n",
    "end=len(train)+len(test)-1\n",
    "z2 = results.predict(start=start, end=end).rename('Spending')\n",
    "z2 = pd.DataFrame(z2)\n",
    "z2"
   ],
   "outputs": [
    {
     "data": {
      "text/plain": [
       "             Spending\n",
       "2015-01-01  33.555507\n",
       "2015-02-01  -3.338121\n",
       "2015-03-01   1.250569\n",
       "2015-04-01  -0.310791\n",
       "2015-05-01   0.220481\n",
       "2015-06-01   0.039709\n",
       "2015-07-01   0.101219\n",
       "2015-08-01   0.080290\n",
       "2015-09-01   0.087411\n",
       "2015-10-01   0.084988\n",
       "2015-11-01   0.085813\n",
       "2015-12-01   0.085532"
      ],
      "text/html": [
       "<div>\n",
       "<style scoped>\n",
       "    .dataframe tbody tr th:only-of-type {\n",
       "        vertical-align: middle;\n",
       "    }\n",
       "\n",
       "    .dataframe tbody tr th {\n",
       "        vertical-align: top;\n",
       "    }\n",
       "\n",
       "    .dataframe thead th {\n",
       "        text-align: right;\n",
       "    }\n",
       "</style>\n",
       "<table border=\"1\" class=\"dataframe\">\n",
       "  <thead>\n",
       "    <tr style=\"text-align: right;\">\n",
       "      <th></th>\n",
       "      <th>Spending</th>\n",
       "    </tr>\n",
       "  </thead>\n",
       "  <tbody>\n",
       "    <tr>\n",
       "      <th>2015-01-01</th>\n",
       "      <td>33.555507</td>\n",
       "    </tr>\n",
       "    <tr>\n",
       "      <th>2015-02-01</th>\n",
       "      <td>-3.338121</td>\n",
       "    </tr>\n",
       "    <tr>\n",
       "      <th>2015-03-01</th>\n",
       "      <td>1.250569</td>\n",
       "    </tr>\n",
       "    <tr>\n",
       "      <th>2015-04-01</th>\n",
       "      <td>-0.310791</td>\n",
       "    </tr>\n",
       "    <tr>\n",
       "      <th>2015-05-01</th>\n",
       "      <td>0.220481</td>\n",
       "    </tr>\n",
       "    <tr>\n",
       "      <th>2015-06-01</th>\n",
       "      <td>0.039709</td>\n",
       "    </tr>\n",
       "    <tr>\n",
       "      <th>2015-07-01</th>\n",
       "      <td>0.101219</td>\n",
       "    </tr>\n",
       "    <tr>\n",
       "      <th>2015-08-01</th>\n",
       "      <td>0.080290</td>\n",
       "    </tr>\n",
       "    <tr>\n",
       "      <th>2015-09-01</th>\n",
       "      <td>0.087411</td>\n",
       "    </tr>\n",
       "    <tr>\n",
       "      <th>2015-10-01</th>\n",
       "      <td>0.084988</td>\n",
       "    </tr>\n",
       "    <tr>\n",
       "      <th>2015-11-01</th>\n",
       "      <td>0.085813</td>\n",
       "    </tr>\n",
       "    <tr>\n",
       "      <th>2015-12-01</th>\n",
       "      <td>0.085532</td>\n",
       "    </tr>\n",
       "  </tbody>\n",
       "</table>\n",
       "</div>"
      ]
     },
     "execution_count": 40,
     "metadata": {},
     "output_type": "execute_result"
    }
   ],
   "execution_count": 40
  },
  {
   "cell_type": "markdown",
   "metadata": {},
   "source": [
    "### Invert the Transformation, Evaluate the Forecast"
   ]
  },
  {
   "cell_type": "code",
   "metadata": {
    "ExecuteTime": {
     "end_time": "2025-06-26T04:11:14.648613Z",
     "start_time": "2025-06-26T04:11:14.634598Z"
    }
   },
   "source": [
    "# Add the most recent first difference from the training set to the forecast cumulative sum\n",
    "z2['Spending1d'] = (df['Spending'].iloc[-nobs-1]-df['Spending'].iloc[-nobs-2]) + z2['Spending'].cumsum()\n",
    "\n",
    "# Now build the forecast values from the first difference set\n",
    "z2['SpendingForecast'] = df['Spending'].iloc[-nobs-1] + z2['Spending1d'].cumsum()"
   ],
   "outputs": [],
   "execution_count": 41
  },
  {
   "cell_type": "code",
   "metadata": {
    "ExecuteTime": {
     "end_time": "2025-06-26T04:11:15.549981Z",
     "start_time": "2025-06-26T04:11:15.527979Z"
    }
   },
   "source": [
    "z2"
   ],
   "outputs": [
    {
     "data": {
      "text/plain": [
       "             Spending  Spending1d  SpendingForecast\n",
       "2015-01-01  33.555507   44.155507      12106.155507\n",
       "2015-02-01  -3.338121   40.817387      12146.972894\n",
       "2015-03-01   1.250569   42.067956      12189.040850\n",
       "2015-04-01  -0.310791   41.757165      12230.798014\n",
       "2015-05-01   0.220481   41.977646      12272.775660\n",
       "2015-06-01   0.039709   42.017355      12314.793015\n",
       "2015-07-01   0.101219   42.118575      12356.911590\n",
       "2015-08-01   0.080290   42.198864      12399.110454\n",
       "2015-09-01   0.087411   42.286276      12441.396730\n",
       "2015-10-01   0.084988   42.371264      12483.767994\n",
       "2015-11-01   0.085813   42.457076      12526.225070\n",
       "2015-12-01   0.085532   42.542608      12568.767678"
      ],
      "text/html": [
       "<div>\n",
       "<style scoped>\n",
       "    .dataframe tbody tr th:only-of-type {\n",
       "        vertical-align: middle;\n",
       "    }\n",
       "\n",
       "    .dataframe tbody tr th {\n",
       "        vertical-align: top;\n",
       "    }\n",
       "\n",
       "    .dataframe thead th {\n",
       "        text-align: right;\n",
       "    }\n",
       "</style>\n",
       "<table border=\"1\" class=\"dataframe\">\n",
       "  <thead>\n",
       "    <tr style=\"text-align: right;\">\n",
       "      <th></th>\n",
       "      <th>Spending</th>\n",
       "      <th>Spending1d</th>\n",
       "      <th>SpendingForecast</th>\n",
       "    </tr>\n",
       "  </thead>\n",
       "  <tbody>\n",
       "    <tr>\n",
       "      <th>2015-01-01</th>\n",
       "      <td>33.555507</td>\n",
       "      <td>44.155507</td>\n",
       "      <td>12106.155507</td>\n",
       "    </tr>\n",
       "    <tr>\n",
       "      <th>2015-02-01</th>\n",
       "      <td>-3.338121</td>\n",
       "      <td>40.817387</td>\n",
       "      <td>12146.972894</td>\n",
       "    </tr>\n",
       "    <tr>\n",
       "      <th>2015-03-01</th>\n",
       "      <td>1.250569</td>\n",
       "      <td>42.067956</td>\n",
       "      <td>12189.040850</td>\n",
       "    </tr>\n",
       "    <tr>\n",
       "      <th>2015-04-01</th>\n",
       "      <td>-0.310791</td>\n",
       "      <td>41.757165</td>\n",
       "      <td>12230.798014</td>\n",
       "    </tr>\n",
       "    <tr>\n",
       "      <th>2015-05-01</th>\n",
       "      <td>0.220481</td>\n",
       "      <td>41.977646</td>\n",
       "      <td>12272.775660</td>\n",
       "    </tr>\n",
       "    <tr>\n",
       "      <th>2015-06-01</th>\n",
       "      <td>0.039709</td>\n",
       "      <td>42.017355</td>\n",
       "      <td>12314.793015</td>\n",
       "    </tr>\n",
       "    <tr>\n",
       "      <th>2015-07-01</th>\n",
       "      <td>0.101219</td>\n",
       "      <td>42.118575</td>\n",
       "      <td>12356.911590</td>\n",
       "    </tr>\n",
       "    <tr>\n",
       "      <th>2015-08-01</th>\n",
       "      <td>0.080290</td>\n",
       "      <td>42.198864</td>\n",
       "      <td>12399.110454</td>\n",
       "    </tr>\n",
       "    <tr>\n",
       "      <th>2015-09-01</th>\n",
       "      <td>0.087411</td>\n",
       "      <td>42.286276</td>\n",
       "      <td>12441.396730</td>\n",
       "    </tr>\n",
       "    <tr>\n",
       "      <th>2015-10-01</th>\n",
       "      <td>0.084988</td>\n",
       "      <td>42.371264</td>\n",
       "      <td>12483.767994</td>\n",
       "    </tr>\n",
       "    <tr>\n",
       "      <th>2015-11-01</th>\n",
       "      <td>0.085813</td>\n",
       "      <td>42.457076</td>\n",
       "      <td>12526.225070</td>\n",
       "    </tr>\n",
       "    <tr>\n",
       "      <th>2015-12-01</th>\n",
       "      <td>0.085532</td>\n",
       "      <td>42.542608</td>\n",
       "      <td>12568.767678</td>\n",
       "    </tr>\n",
       "  </tbody>\n",
       "</table>\n",
       "</div>"
      ]
     },
     "execution_count": 42,
     "metadata": {},
     "output_type": "execute_result"
    }
   ],
   "execution_count": 42
  },
  {
   "cell_type": "code",
   "metadata": {
    "ExecuteTime": {
     "end_time": "2025-06-26T04:11:19.737713Z",
     "start_time": "2025-06-26T04:11:19.726734Z"
    }
   },
   "source": [
    "RMSE4 = rmse(df['Spending'][-nobs:], z2['SpendingForecast'])\n",
    "\n",
    "print(f'Spending VARMA(1,2) RMSE: {RMSE2:.3f}')\n",
    "print(f'Spending  ARMA(1,2) RMSE: {RMSE4:.3f}')"
   ],
   "outputs": [
    {
     "name": "stdout",
     "output_type": "stream",
     "text": [
      "Spending VARMA(1,2) RMSE: 242.260\n",
      "Spending  ARMA(1,2) RMSE: 52.332\n"
     ]
    }
   ],
   "execution_count": 43
  },
  {
   "cell_type": "markdown",
   "metadata": {},
   "source": [
    "<strong>CONCLUSION:</strong> It looks like the VARMA(1,2) model did a relatively poor job compared to simpler alternatives. This tells us that there is little or no interdepence between Money Stock and Personal Consumption Expenditures, at least for the timespan we investigated. This is helpful! By fitting a model and getting poor results we know more about the data than we did before."
   ]
  }
 ],
 "metadata": {
  "kernelspec": {
   "display_name": "Python 3",
   "language": "python",
   "name": "python3"
  },
  "language_info": {
   "codemirror_mode": {
    "name": "ipython",
    "version": 3
   },
   "file_extension": ".py",
   "mimetype": "text/x-python",
   "name": "python",
   "nbconvert_exporter": "python",
   "pygments_lexer": "ipython3",
   "version": "3.7.2"
  }
 },
 "nbformat": 4,
 "nbformat_minor": 2
}
